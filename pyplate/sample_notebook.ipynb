{
 "cells": [
  {
   "cell_type": "code",
   "execution_count": null,
   "metadata": {
    "vscode": {
     "languageId": "plaintext"
    }
   },
   "outputs": [],
   "source": [
    "        filtered_factors = {}\n",
    "        for factor in self.factors:\n",
    "            if factors[factor.name] == \"all\":\n",
    "                filtered_factors[factor.name] = factor.possible_values\n",
    "            else:\n",
    "                filtered_factors[factor.name] = [value for value in factor.possible_values if value in factors[factor.name]]\n",
    "        \n",
    "        # Initialize blocks\n",
    "        blocks = []\n",
    "\n",
    "        # If needed form blocking combinations\n",
    "        #blocking_combinations = list(itertools.product(*[filtered_factors[name] for name in blocking_factors]))\n",
    "\n",
    "        # Iterate over each combination of blocking factors\n",
    "        for block_comb in blocking_factors:\n",
    "            block = []\n",
    "            \n",
    "            # Create a dictionary for the current blocking combination\n",
    "            block_dict = dict(zip(blocking_factors, block_comb))\n",
    "\n",
    "            # Filter out blocking factors and create combinations of other factors\n",
    "            other_factors = {name: values for name, values in filtered_factors.items() if name not in blocking_factors}\n",
    "            other_combinations = list(itertools.product(*other_factors.values()))\n",
    "\n",
    "            # Generate experiments for each combination\n",
    "            for comb in other_combinations:\n",
    "                factors_dict = dict(zip(other_factors.keys(), comb))\n",
    "                factors_dict.update(block_dict)  # Add blocking factor values\n",
    "\n",
    "                # Create replicates for each unique combination\n",
    "                for rep in range(n_replicates):\n",
    "                    experiment = Experiment(factors=factors_dict, replicate_idx=rep+1)\n",
    "                    block.append(experiment)\n",
    "\n",
    "            blocks.append(block)\n",
    "\n",
    "        return blocks"
   ]
  }
 ],
 "metadata": {
  "language_info": {
   "name": "python"
  }
 },
 "nbformat": 4,
 "nbformat_minor": 2
}
